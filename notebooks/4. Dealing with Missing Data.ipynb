{
 "cells": [
  {
   "cell_type": "code",
   "execution_count": null,
   "metadata": {
    "collapsed": true
   },
   "outputs": [],
   "source": [
    "%matplotlib inline\n",
    "import numpy as np\n",
    "import pandas as pd\n",
    "import matplotlib.pyplot as plt\n",
    "\n",
    "RANDOM_SEED = 20090425"
   ]
  },
  {
   "cell_type": "markdown",
   "metadata": {},
   "source": [
    "---"
   ]
  },
  {
   "cell_type": "markdown",
   "metadata": {},
   "source": [
    "# Dealing with Missing Data\n",
    "\n",
    "Missing data is a common problem in most real-world scientific datasets. While the best way for dealing with missing data will always be preventing their occurrence in the first place, it usually can't be helped, particularly when data are collected passively or voluntarily, or when data collection and recording is distributed among several people. \n",
    "\n",
    "For example, consider a survey dataset for some wildlife species:\n",
    "\n",
    "| Count | Site | Observer | Temperature |\n",
    "| ----- | ---- | -------- | ----------- |\n",
    "| 15    | 1    | 1        | 15          |\n",
    "| 10    | 1    | 2        | NA          |\n",
    "| 6     | 1    | 1        | 11          |\n",
    "\n",
    "Each row contains the number of individuals seen during the survey, along with three covariates: the site on which the survey was conducted, the observer that collected the data, and the temperature during the survey. If we are interested in modelling, say, population size as a function of the count and the associated covariates, it is difficult to accommodate the second observation because the temperature is missing (perhaps the thermometer was broken that day). Ignoring this observation will allow us to fit the model, but it wastes information that is contained in the other covariates.\n",
    "\n",
    "There are a variety of ways for dealing with missing data, from the very naïve to the very sophisticated, and unfortunately the more common approaches tend to be *ad hoc* and will usually do more harm than good. "
   ]
  },
  {
   "cell_type": "markdown",
   "metadata": {},
   "source": [
    "### Example: Learning outcomes for hearing-impaired children\n",
    "\n",
    "As a motivating example, we will use a dataset of educational outcomes for children with hearing impairment. Here, we are interested in determining factors that are associated with better or poorer learning outcomes. \n",
    "\n",
    "![hearing aid](images/hearing_aid.jpg)\n",
    "\n",
    "There is a suite of available predictors, including: \n",
    "\n",
    "* gender (`male`)\n",
    "* number of siblings in the household (`siblings`)\n",
    "* index of family involvement (`family_inv`)\n",
    "* whether the primary household language is not English (`non_english`)\n",
    "* presence of a previous disability (`prev_disab`)\n",
    "* non-white race (`non_white`)\n",
    "* age at the time of testing (in months, `age_test`)\n",
    "* whether hearing loss is not severe (`non_severe_hl`)\n",
    "* whether the subject's mother obtained a high school diploma or better (`mother_hs`)\n",
    "* whether the hearing impairment was identified by 3 months of age (`early_ident`)."
   ]
  },
  {
   "cell_type": "code",
   "execution_count": null,
   "metadata": {
    "collapsed": true,
    "scrolled": false
   },
   "outputs": [],
   "source": [
    "test_scores = pd.read_csv('../data/test_scores.csv', index_col=0)\n",
    "test_scores.head()"
   ]
  },
  {
   "cell_type": "markdown",
   "metadata": {},
   "source": [
    "For three variables in the dataset, there are incomplete records."
   ]
  },
  {
   "cell_type": "code",
   "execution_count": null,
   "metadata": {
    "collapsed": true
   },
   "outputs": [],
   "source": [
    "test_scores.isnull().sum(0)"
   ]
  },
  {
   "cell_type": "markdown",
   "metadata": {},
   "source": [
    "## Strategies for dealing with missing data\n",
    "\n",
    "The easiest (and worst) way to deal with missing data is to **ignore it**. That is, simply run the analysis, missing values and all, hoping for the best. If your software is any good, this approach will simply not work; the algorithm will try to operate on data that includes missing values, and propagate them, resulting in statistics and estimates that cannot be calculated, which will typically raise errors. If your software is poor, it will make some assumption or decision about the missing values, and proceed to generate  results conditional on the assumption, which creates problems that may never be detected because no indication was given to any potential problem. \n",
    "\n",
    "The next easiest (worst) approach to analyzing data with missing values is to conduct list-wise deletion, by deleting the records that have missing values. This is called **complete case analysis**, because only records that are complete get retained for the analysis. The degree to which complete case analysis is undesirable depends on the mechanism by which data have become missing."
   ]
  },
  {
   "cell_type": "markdown",
   "metadata": {},
   "source": [
    "## Types of Missingness\n",
    "\n",
    "- **Missing completely at random (MCAR)**: When data are MCAR, missing cases are, on average, identical to non-missing cases, with respect to the model. Ignoring the missingness will reduce the power of the analysis, but will not bias inference.\n",
    "- **Missing at random (MAR)**: Missing data depends (usually probabilistically) on measured values, and hence can be modeled by variables observed in the data set. Accounting for the values which “cause” the missing data will produce unbiased results in an analysis.\n",
    "- **Missing not at random (MNAR)**: Missing data depend on unmeasured or unknown variables. There is no information available to account for the missingness."
   ]
  },
  {
   "cell_type": "markdown",
   "metadata": {},
   "source": [
    "> Consider a medical dataset collected that records both age and number of current medications. In this dataset, age is recorded for all individuals, but number of meds is missing for some individuals.\n",
    "> - if the probability of missingness is independent of both age and meds count, the data are MCAR (*missing at random, observed at random*)\n",
    "> - if the probability of missingness depends on age but not on meds count, the data are MAR (*missing at random, not observed at random*)"
   ]
  },
  {
   "cell_type": "markdown",
   "metadata": {},
   "source": [
    "The very best-case scenario for using complete case analysis, which corresponds to MCAR missingness, results in a **loss of power** due to the reduction in sample size. The analysis will lose the information contained in the non-missing elements of a partially-missing record. *Deletion of records due to partially-missing variables will always result in estimates that are inefficient.*\n",
    "\n",
    "When data are not missing completely at random, inferences from complete case analysis may be **biased** due to systematic differences between missing and non-missing records that affects the estimates of key parameters. Here, we say that the missing data mechanism is **non-ignorable**.\n",
    "\n",
    "**It is usually better to make up values for missing data than to throw real data away!**\n",
    "\n",
    "When can record deletion be used?\n",
    "\n",
    "- Data are missing completely at random\n",
    "- Fraction of observations with missing elements is very small relative to overall sample size\n",
    "- predictor and response variables are both absent"
   ]
  },
  {
   "cell_type": "markdown",
   "metadata": {},
   "source": [
    "If the probability of missingnewss is related to the response variable, estimates can be badly biased. Its important to characterize the missingness in terms of the outcome of interest before deleting observations."
   ]
  },
  {
   "cell_type": "code",
   "execution_count": null,
   "metadata": {
    "collapsed": true
   },
   "outputs": [],
   "source": [
    "fig, axes = plt.subplots(1, 3, figsize=(12,5\n",
    "                                       ))\n",
    "for i,variable in enumerate(['mother_hs', 'prev_disab', 'family_inv']):\n",
    "    (test_scores.assign(missing=test_scores[variable].isnull())\n",
    "         .groupby('missing')\n",
    "         .score.hist(ax=axes[i]))"
   ]
  },
  {
   "cell_type": "markdown",
   "metadata": {},
   "source": [
    "## Imputation\n",
    "\n",
    "To make our estimates as efficient as possible, **we want to preserve the information and interpretation of the non-missing data**.\n",
    "\n",
    "One alternative to complete case analysis is to simply fill (*impute*) the missing values with a reasonable guess a the true value, such as the mean, median or modal value of the fully-observed records. This imputation, while not recovering any information regarding the missing value itself for use in the analysis, does provide a mechanism for including the non-missing values in the analysis, thereby making use of all available information.\n",
    "\n",
    "Performing mean imputation is easy in Pandas, via the DataFrame/Series `fillna` method."
   ]
  },
  {
   "cell_type": "code",
   "execution_count": null,
   "metadata": {
    "collapsed": true
   },
   "outputs": [],
   "source": [
    "test_scores.siblings.mean()"
   ]
  },
  {
   "cell_type": "code",
   "execution_count": null,
   "metadata": {
    "collapsed": true
   },
   "outputs": [],
   "source": [
    "siblings_imputed = test_scores.siblings.fillna(test_scores.siblings.mean())"
   ]
  },
  {
   "cell_type": "markdown",
   "metadata": {},
   "source": [
    "This approach may be reasonable under the MCAR assumption, but may induce bias under a MAR scenario, whereby missing values may **differ systematically** relative to non-missing values, making the particular summary statistic used for imputation *biased* as a mean/median/modal value for the missing values.\n",
    "\n",
    "Beyond this, the use of a single imputed value to stand in place of the actual missing value glosses over the **uncertainty** associated with this guess at the true value. Any subsequent analysis procedure (*e.g.* regression analysis) will behave as if the imputed value were observed, despite the fact that we are actually unsure of the actual value for the missing variable. The practical consequence of this is that the variance of any estimates resulting from the imputed dataset will be **artificially reduced**."
   ]
  },
  {
   "cell_type": "markdown",
   "metadata": {},
   "source": [
    "## Multiple Imputation\n",
    "\n",
    "One robust alternative to addressing missing data is **multiple imputation** (Schaffer 1999, van Buuren 2012). It produces unbiased parameter estimates, while simultaneously accounting for the uncertainty associated with imputing missing values. It is conceptually and mechanistically straightforward, and produces complete datasets that may be analyzed using any statistical methodology or software one chooses, as if the data had no missing values to begin with.\n",
    "\n",
    "Multiple imputation generates imputed values based on a **regression model**. This regression model will help us generate reasonable values, particularly if data are MAR, since it uses information in the dataset that may be informative in predicting what the true value may be. Ideally, we want predictor variables that are **correlated** with the missing variable, and with the mechanism of missingness, if any. For example, one might be able to use test scores from one subject to predict missing test scores from another; or, the probability of income reporting to be missing may vary systematically according to the education level of the individual."
   ]
  },
  {
   "cell_type": "markdown",
   "metadata": {},
   "source": [
    "To see if there is any potential information among the variables in our dataset to use for imputation, it is helpful to calculate the pairwise correlation between all the variables. Since we have discrete variables in our data, the [Spearman rank correlation coefficient](http://www.wikiwand.com/en/Spearman%27s_rank_correlation_coefficient) is appropriate."
   ]
  },
  {
   "cell_type": "code",
   "execution_count": null,
   "metadata": {
    "collapsed": true
   },
   "outputs": [],
   "source": [
    "test_scores.dropna().corr(method='spearman')"
   ]
  },
  {
   "cell_type": "markdown",
   "metadata": {},
   "source": [
    "We will try to impute missing values the mother's high school education indicator variable, which takes values of 0 for no high school diploma, or 1 for high school diploma or greater. The appropriate model to predict binary variables is a **logistic regression**. "
   ]
  },
  {
   "cell_type": "markdown",
   "metadata": {},
   "source": [
    "To keep things simple, we will only use variables that are themselves complete to build the predictive model, hence our subset of predictors will exclude family involvement score (`family_inv`) and previous disability (`prev_disab`)."
   ]
  },
  {
   "cell_type": "code",
   "execution_count": null,
   "metadata": {
    "collapsed": true
   },
   "outputs": [],
   "source": [
    "impute_subset = test_scores.drop(labels=['family_inv','prev_disab','score'], axis=1)"
   ]
  },
  {
   "cell_type": "code",
   "execution_count": null,
   "metadata": {
    "collapsed": true
   },
   "outputs": [],
   "source": [
    "y = impute_subset.pop('mother_hs').values\n",
    "X = impute_subset.astype(float)"
   ]
  },
  {
   "cell_type": "markdown",
   "metadata": {},
   "source": [
    "The *training* and *test* sets in this case will be the non-missing and missing values, respectively, since we want to use supervised learning to build our predictive model."
   ]
  },
  {
   "cell_type": "code",
   "execution_count": null,
   "metadata": {
    "collapsed": true
   },
   "outputs": [],
   "source": [
    "missing = np.isnan(y)"
   ]
  },
  {
   "cell_type": "markdown",
   "metadata": {},
   "source": [
    "Next, we create a logistic regression model, and fit it using the non-missing observations.\n",
    "\n",
    "As a performance hack, we will normalize the input variables (center them and subtract by their respective standard deviations). This will make the models run faster."
   ]
  },
  {
   "cell_type": "code",
   "execution_count": null,
   "metadata": {
    "collapsed": true
   },
   "outputs": [],
   "source": [
    "normalize = lambda x: (x - x.mean()) / x.std()\n",
    "X = X.apply(normalize)"
   ]
  },
  {
   "cell_type": "markdown",
   "metadata": {},
   "source": [
    "Now, we can set up our logistic regression model in PyMC3, as we have done previously."
   ]
  },
  {
   "cell_type": "code",
   "execution_count": null,
   "metadata": {
    "collapsed": true
   },
   "outputs": [],
   "source": [
    "from pymc3 import Model, Normal, Bernoulli, invlogit\n",
    "\n",
    "with Model() as model:\n",
    "\n",
    "    μ = Normal('μ', 0, sd=10)\n",
    "    β = Normal('β', 0, sd=10, shape=X.shape[1])\n",
    "\n",
    "    p = invlogit(μ + β.dot(X[~missing].T))\n",
    "\n",
    "    mother_hs = Bernoulli('mother_hs', p, observed=y[~missing])"
   ]
  },
  {
   "cell_type": "markdown",
   "metadata": {},
   "source": [
    "Notice that we have indexed out the non-missing values from `X` and `y`. \n",
    "\n",
    "We need to add one additional component to our model: **predictions for the unobserved values**. We can do this by creating a `Deterministic` node that calculates the expected probability at the missing values for high school education:"
   ]
  },
  {
   "cell_type": "code",
   "execution_count": null,
   "metadata": {
    "collapsed": true
   },
   "outputs": [],
   "source": [
    "from pymc3 import Deterministic\n",
    "\n",
    "with model:\n",
    "    \n",
    "    p_pred = Deterministic('p_pred', \n",
    "                    invlogit(μ + β.dot(X.loc[missing].T)))"
   ]
  },
  {
   "cell_type": "markdown",
   "metadata": {},
   "source": [
    "This generates samples from the **posterior predictive distribution** for `p`, the same mechanism we used when peforming model checking.\n",
    "\n",
    "We can now run our model and extract the predictions."
   ]
  },
  {
   "cell_type": "code",
   "execution_count": null,
   "metadata": {
    "collapsed": true
   },
   "outputs": [],
   "source": [
    "from pymc3 import fit\n",
    "\n",
    "with model:\n",
    "    \n",
    "    tr = fit(20000, random_seed=RANDOM_SEED).sample(500)"
   ]
  },
  {
   "cell_type": "code",
   "execution_count": null,
   "metadata": {
    "collapsed": true
   },
   "outputs": [],
   "source": [
    "tr['p_pred'].mean(0)"
   ]
  },
  {
   "cell_type": "markdown",
   "metadata": {},
   "source": [
    "These are *probabilities* of having a high school education; we need to use these in conjunction with a classification rule in order to create imputed values. We will assume `mother_hs=1` if the probability exceeds 0.5, or `mother_hs=0` otherwise."
   ]
  },
  {
   "cell_type": "code",
   "execution_count": null,
   "metadata": {
    "collapsed": true
   },
   "outputs": [],
   "source": [
    "(tr['p_pred'].mean(0) > 0.5).astype(int)"
   ]
  },
  {
   "cell_type": "markdown",
   "metadata": {},
   "source": [
    "These values can then be inserted in place of the missing values, and an analysis can be performed on the entire dataset.\n",
    "\n",
    "However, this is still just a single imputation for each missing value, and hence glosses over the uncertainty associated with the derivation of the imputes. Multiple imputation proceeds by **imputing several values**, to generate several complete datasets and performing the same analysis on all of them. With a set of estimates in hand, an *average* estimate of model parameters can be obtained that more adequately accounts for the uncertainty, hopefully providing more robust inference than from a single impute.\n",
    "\n",
    "There are a variety of ways to generate multiple imputations. Here, we will define a *set* of predictive models. For example, we can pick arbitrary subsets of the predictor variables and use each subset to generate a vector of imputed values.\n",
    "\n",
    "For efficiency, we will wrap a general model specification in a function, which can be instantiated with any subset of covariatest that we specify."
   ]
  },
  {
   "cell_type": "code",
   "execution_count": null,
   "metadata": {
    "collapsed": true
   },
   "outputs": [],
   "source": [
    "def imputation_model(predictors):\n",
    "\n",
    "    with Model() as model:\n",
    "\n",
    "        μ = Normal('μ', 0, sd=10)\n",
    "        β = Normal('β', 0, sd=10, shape=len(predictors))\n",
    "\n",
    "        p = invlogit(μ + β.dot(X.loc[~missing, predictors].T))\n",
    "\n",
    "        mother_hs = Bernoulli('mother_hs', p, observed=y[~missing])\n",
    "\n",
    "        p_pred = Deterministic('p_pred', \n",
    "                        invlogit(μ + β.dot(X.loc[missing, predictors].T)))\n",
    "        \n",
    "    return model"
   ]
  },
  {
   "cell_type": "markdown",
   "metadata": {},
   "source": [
    "Surprisingly few imputations are required to acheive reasonable estimates, with 3-10 usually sufficient. We will use 3."
   ]
  },
  {
   "cell_type": "code",
   "execution_count": null,
   "metadata": {
    "collapsed": true
   },
   "outputs": [],
   "source": [
    "predictors = (['non_english', 'age_test', 'non_severe_hl'],\n",
    "              ['male', 'siblings', 'non_english'],\n",
    "              X.columns)"
   ]
  },
  {
   "cell_type": "markdown",
   "metadata": {},
   "source": [
    "Let's run each of these models in turn and save the imputed values."
   ]
  },
  {
   "cell_type": "code",
   "execution_count": null,
   "metadata": {
    "collapsed": true
   },
   "outputs": [],
   "source": [
    "mother_hs_imp = []\n",
    "\n",
    "for P in predictors:\n",
    "    \n",
    "    mod = imputation_model(P)\n",
    "    \n",
    "    with mod:\n",
    "    \n",
    "        tr = fit(20000, random_seed=RANDOM_SEED).sample(500)\n",
    "\n",
    "    imputed = (tr['p_pred'].mean(0) > 0.5).astype(int)\n",
    "    \n",
    "    mother_hs_imp.append(imputed)"
   ]
  },
  {
   "cell_type": "code",
   "execution_count": null,
   "metadata": {
    "collapsed": true
   },
   "outputs": [],
   "source": [
    "mother_hs_imp"
   ]
  },
  {
   "cell_type": "markdown",
   "metadata": {},
   "source": [
    "Now we can perform 3 separate analyses, using the method of our choice, each based upon a different set of imputed values. "
   ]
  },
  {
   "cell_type": "code",
   "execution_count": null,
   "metadata": {
    "collapsed": true
   },
   "outputs": [],
   "source": [
    "from pymc3 import HalfCauchy\n",
    "\n",
    "coefficients = []\n",
    "\n",
    "for imputes in mother_hs_imp:\n",
    "        \n",
    "    X = test_scores.drop(labels=['family_inv','prev_disab'], axis=1).astype(float)\n",
    "    X.loc[missing, 'mother_hs'] = imputes\n",
    "    y = X.pop('score')\n",
    "    \n",
    "    with Model():\n",
    "\n",
    "        μ = Normal('μ', 0, sd=10)\n",
    "        β = Normal('β', 0, sd=10, shape=X.shape[1])\n",
    "        \n",
    "        σ = HalfCauchy('σ', 1)\n",
    "\n",
    "        score = Normal('score', μ + β.dot(X.apply(normalize).T), sd=σ, observed=y)\n",
    "        \n",
    "        samples = fit(20000, random_seed=RANDOM_SEED).sample(1000)\n",
    "\n",
    "    coefficients.append(samples['β'].mean(0))"
   ]
  },
  {
   "cell_type": "code",
   "execution_count": null,
   "metadata": {
    "collapsed": true
   },
   "outputs": [],
   "source": [
    "coeff_labels = ['male',\n",
    "                'siblings',\n",
    "                'non_english',\n",
    "                'age_test',\n",
    "                'non_severe_hl',\n",
    "                'mother_hs',\n",
    "                'early_ident',\n",
    "                'non_white']\n",
    "\n",
    "coef_df = pd.DataFrame(coefficients, columns=coeff_labels)\n",
    "coef_df"
   ]
  },
  {
   "cell_type": "markdown",
   "metadata": {},
   "source": [
    "Inference for each coefficient is then based on the average of these three estimates."
   ]
  },
  {
   "cell_type": "code",
   "execution_count": null,
   "metadata": {
    "collapsed": true
   },
   "outputs": [],
   "source": [
    "coef_df.mean()"
   ]
  },
  {
   "cell_type": "markdown",
   "metadata": {},
   "source": [
    "We can see that we obtain somewhat different estimates when we use multiple imputation versus complete case analysis:"
   ]
  },
  {
   "cell_type": "code",
   "execution_count": null,
   "metadata": {
    "collapsed": true
   },
   "outputs": [],
   "source": [
    "X = test_scores.drop(labels=['family_inv','prev_disab'], axis=1).astype(float).dropna(0)\n",
    "y = X.pop('score')\n",
    "\n",
    "with Model():\n",
    "\n",
    "    μ = Normal('μ', 0, sd=10)\n",
    "    β = Normal('β', 0, sd=10, shape=X.shape[1])\n",
    "\n",
    "    σ = HalfCauchy('σ', 1)\n",
    "\n",
    "    score = Normal('score', μ + β.dot(X.apply(normalize).T), sd=σ, observed=y)\n",
    "\n",
    "    samples = fit(20000, random_seed=RANDOM_SEED).sample(1000)\n",
    "    \n",
    "pd.Series(samples['β'].mean(0), index=coeff_labels)"
   ]
  },
  {
   "cell_type": "markdown",
   "metadata": {},
   "source": [
    "Estimates from mean imputation are more similar."
   ]
  },
  {
   "cell_type": "code",
   "execution_count": null,
   "metadata": {
    "collapsed": true
   },
   "outputs": [],
   "source": [
    "X = test_scores.drop(labels=['family_inv','prev_disab'], axis=1).astype(float)\n",
    "X['mother_hs'] = X.mother_hs.fillna(X.mother_hs.mean())\n",
    "y = X.pop('score')\n",
    "\n",
    "with Model():\n",
    "\n",
    "    μ = Normal('μ', 0, sd=10)\n",
    "    β = Normal('β', 0, sd=10, shape=X.shape[1])\n",
    "\n",
    "    σ = HalfCauchy('σ', 1)\n",
    "\n",
    "    score = Normal('score', μ + β.dot(X.apply(normalize).T), sd=σ, observed=y)\n",
    "\n",
    "    samples = fit(20000, random_seed=RANDOM_SEED).sample(1000)\n",
    "    \n",
    "pd.Series(samples['β'].mean(0), index=coeff_labels)"
   ]
  },
  {
   "cell_type": "markdown",
   "metadata": {},
   "source": [
    "### Integrated missing data imputation\n",
    "\n",
    "A more \"fully Bayesian\" approach for multiple imputation is to treat the missing values as latent variables, and estimate them just as one would with any other model unknown. This allows imputation to occur within the same modeling framework as the regession analysis itself. However, it involves constructing a sub-model for the missing data, which requires a little additional work.\n",
    "\n",
    "Let's first extract `mother_hs` from the dataset:"
   ]
  },
  {
   "cell_type": "code",
   "execution_count": null,
   "metadata": {
    "collapsed": true
   },
   "outputs": [],
   "source": [
    "X = test_scores.drop(labels=['family_inv','prev_disab'], axis=1).astype(float)\n",
    "y = X.pop('score')\n",
    "mother_hs_ = X.pop('mother_hs')"
   ]
  },
  {
   "cell_type": "markdown",
   "metadata": {},
   "source": [
    "If we provide a model for `mother_hs`, PyMC will automatically impute values as it draws posterior samples."
   ]
  },
  {
   "cell_type": "code",
   "execution_count": null,
   "metadata": {
    "collapsed": true
   },
   "outputs": [],
   "source": [
    "mother_hs_.head(10)"
   ]
  },
  {
   "cell_type": "markdown",
   "metadata": {},
   "source": [
    "For simplicity, here we will assume `mother_hs` is MCAR. So, all that is required is a sampling distribution for the variable, which is binary. So, an appropriate model is the Bernoulli distribution, just as we used for the likelihood in the logistic regression model.\n",
    "\n",
    "We will assign a uniform prior to the probability of the mother having at least a high school education. Here is the complete model:"
   ]
  },
  {
   "cell_type": "code",
   "execution_count": null,
   "metadata": {
    "collapsed": true
   },
   "outputs": [],
   "source": [
    "from pymc3 import Uniform, sample\n",
    "\n",
    "with Model() as bayes_impute:\n",
    "    \n",
    "    π = Uniform('π', 0, 1)\n",
    "    mother_hs = Bernoulli('mother_hs', π, observed=mother_hs_)\n",
    "    \n",
    "    μ = Normal('μ', 0, sd=10)\n",
    "    β = Normal('β', 0, sd=10, shape=X.shape[1])\n",
    "    γ = Normal('γ', 0, sd=10)\n",
    "\n",
    "    σ = HalfCauchy('σ', 1)\n",
    "\n",
    "    score = Normal('score', μ + β.dot(X.apply(normalize).T) + γ*mother_hs, sd=σ, observed=y)\n",
    "\n",
    "    samples = sample(1000, tune=1000)"
   ]
  },
  {
   "cell_type": "code",
   "execution_count": null,
   "metadata": {
    "collapsed": true
   },
   "outputs": [],
   "source": [
    "samples['mother_hs_imputed_missing'].mean(0)"
   ]
  },
  {
   "cell_type": "markdown",
   "metadata": {},
   "source": [
    "The MCAR assumption can be relaxed and replaced by a more sophisticated model than the simpl Bernoulli sampling distribtion used here. In fact, we could implement the full multivariate model that we used for multiple imputation relatively easily."
   ]
  },
  {
   "cell_type": "markdown",
   "metadata": {},
   "source": [
    "## Capstone Project\n",
    "\n",
    "To consolidaate what we've learned here, let's consider the problem of predicting survival in the Titanic disaster, based on our available information. Here, we want to predict survival as a function of several variables that are available from the ship's record.\n",
    "\n",
    "![titanic](images/titanic_cube.png)"
   ]
  },
  {
   "cell_type": "code",
   "execution_count": null,
   "metadata": {
    "collapsed": true
   },
   "outputs": [],
   "source": [
    "titanic = pd.read_excel(\"../data/titanic.xls\", \"titanic\")\n",
    "titanic.name"
   ]
  },
  {
   "cell_type": "markdown",
   "metadata": {},
   "source": [
    "Fit a reasonable Bayesian multivariate generalized linear model with this data, using several variables such as sex, age and fare to predict survival. Make sure you involve the following steps:\n",
    "\n",
    "- data imputation\n",
    "- model checking\n",
    "- model comparison"
   ]
  },
  {
   "cell_type": "code",
   "execution_count": null,
   "metadata": {
    "collapsed": true
   },
   "outputs": [],
   "source": [
    "# Write your answer here"
   ]
  },
  {
   "cell_type": "markdown",
   "metadata": {},
   "source": [
    "## References\n",
    "\n",
    "- R. J. A. Little and D. B. Rubin. Statistical Analysis with Missing Data. Wiley, New York, second edition, 2002.\n",
    "- M. J. Knol, K. J. M. Janssen, R. T. Donders, A. C. G. Egberts, E. R. Heerding, D. E. Grobbee, K. G. M. Moons, and M. I. Geerlings. [Unpredictable bias when using the missing indicator method or complete case analysis for missing confounder values: an empirical example](https://www.ncbi.nlm.nih.gov/pubmed/20346625). J Clin Epi, 63:728–736, 2010.\n",
    "- van Buuren, S. (2012). Flexible Imputation of Missing Data (pp. 1–326).\n",
    "- Schafer, J. L. (1999). Multiple imputation: a primer. Statistical Methods in Medical Research, 8(1), 3–15. http://doi.org/10.1177/096228029900800102"
   ]
  }
 ],
 "metadata": {
  "kernelspec": {
   "display_name": "Python 3",
   "language": "python",
   "name": "python3"
  },
  "language_info": {
   "codemirror_mode": {
    "name": "ipython",
    "version": 3
   },
   "file_extension": ".py",
   "mimetype": "text/x-python",
   "name": "python",
   "nbconvert_exporter": "python",
   "pygments_lexer": "ipython3",
   "version": "3.6.1"
  }
 },
 "nbformat": 4,
 "nbformat_minor": 1
}
